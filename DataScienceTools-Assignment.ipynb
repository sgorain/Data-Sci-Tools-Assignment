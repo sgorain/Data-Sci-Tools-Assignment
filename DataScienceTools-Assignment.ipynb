{
 "cells": [
  {
   "cell_type": "markdown",
   "id": "ec462b1f",
   "metadata": {},
   "source": [
    "# Data Science Tools and Ecosystem"
   ]
  },
  {
   "cell_type": "markdown",
   "id": "e2e9c3dc",
   "metadata": {},
   "source": [
    "## Author\n",
    "Snehan"
   ]
  },
  {
   "cell_type": "markdown",
   "id": "d23e1779",
   "metadata": {},
   "source": [
    "In this epic notebook, data science tools and ecosystem are summarized ;)"
   ]
  },
  {
   "cell_type": "markdown",
   "id": "8dbae75f",
   "metadata": {},
   "source": [
    "**Objectives**\n",
    "* List popular languages for data science tasks\n",
    "* List popular data science libraries\n",
    "* List some data science tools"
   ]
  },
  {
   "cell_type": "markdown",
   "id": "d06d7fab",
   "metadata": {},
   "source": [
    "Some of the popular languages that data scientists use are:\n",
    "1. SQL\n",
    "2. Python\n",
    "3. R\n",
    "4. Julia\n",
    "5. Scala"
   ]
  },
  {
   "cell_type": "markdown",
   "id": "5e126d37",
   "metadata": {},
   "source": [
    "Some of the commonly used libraries used by data scientists include:\n",
    "1. Matplotlib\n",
    "2. Pandas\n",
    "3. SciKit\n",
    "4. Numpy"
   ]
  },
  {
   "cell_type": "markdown",
   "id": "91e6fc98",
   "metadata": {},
   "source": [
    "|Data Science Tools|\n",
    "|---|\n",
    "|Jupyter Notebooks|\n",
    "|GitHub|\n",
    "|GitLab|\n",
    "|RStudio|"
   ]
  },
  {
   "cell_type": "markdown",
   "id": "d0886c82",
   "metadata": {},
   "source": [
    "### Below are a few examples of evaluating arithmetic expressions in Python"
   ]
  },
  {
   "cell_type": "code",
   "execution_count": 1,
   "id": "59e2c6e9",
   "metadata": {},
   "outputs": [
    {
     "data": {
      "text/plain": [
       "17"
      ]
     },
     "execution_count": 1,
     "metadata": {},
     "output_type": "execute_result"
    }
   ],
   "source": [
    "# This is a simple arithemetic expression to multiply and add integers.\n",
    "(3*4)+5"
   ]
  },
  {
   "cell_type": "code",
   "execution_count": 6,
   "id": "e2e982d0",
   "metadata": {},
   "outputs": [
    {
     "name": "stdout",
     "output_type": "stream",
     "text": [
      "3.3333333333333335 hours\n"
     ]
    }
   ],
   "source": [
    "# The following line will convert 200 minutes into hours\n",
    "hours = 200 / 60\n",
    "print(hours, \"hours\")"
   ]
  },
  {
   "cell_type": "markdown",
   "id": "8248fb5a",
   "metadata": {},
   "source": []
  }
 ],
 "metadata": {
  "kernelspec": {
   "display_name": "Python 3 (ipykernel)",
   "language": "python",
   "name": "python3"
  },
  "language_info": {
   "codemirror_mode": {
    "name": "ipython",
    "version": 3
   },
   "file_extension": ".py",
   "mimetype": "text/x-python",
   "name": "python",
   "nbconvert_exporter": "python",
   "pygments_lexer": "ipython3",
   "version": "3.11.3"
  }
 },
 "nbformat": 4,
 "nbformat_minor": 5
}
